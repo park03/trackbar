{
 "cells": [
  {
   "cell_type": "code",
   "execution_count": 19,
   "metadata": {},
   "outputs": [],
   "source": [
    "import cv2\n",
    "import numpy as np"
   ]
  },
  {
   "cell_type": "code",
   "execution_count": 20,
   "metadata": {},
   "outputs": [],
   "source": [
    "img = cv2.imread(\"ul.jpg\")\n",
    "img = cv2.pyrDown(img)\n",
    "\n",
    "cv2.imshow('color', img)\n",
    "cv2.waitKey(0)\n",
    "cv2.destroyAllWindows()"
   ]
  },
  {
   "cell_type": "code",
   "execution_count": 20,
   "metadata": {},
   "outputs": [],
   "source": [
    "img = cv2.imread(\"ul.jpg\")"
   ]
  },
  {
   "cell_type": "markdown",
   "metadata": {},
   "source": [
    " # dilate : 팽창, 흰색을 기준으로 팽창됨/중심점이 -1,-1\n",
    " \n",
    " # erode : 수축"
   ]
  },
  {
   "cell_type": "code",
   "execution_count": 25,
   "metadata": {},
   "outputs": [],
   "source": [
    "# img = cv2.pyrDown(img)\n",
    "# img = cv2.pyrDown(img)\n",
    "\n",
    "kernel = cv2.getStructuringElement(cv2.MORPH_CROSS, (9,9))\n",
    "img_dilate = cv2.dilate(img, kernel, anchor=(-1,-1), iterations=1)\n",
    "img_erode = cv2.erode(img, kernel, anchor=(-1,-1), iterations=1) \n",
    "out_img = np.concatenate((img, img_dilate, img_erode), axis=0) \n",
    "out_img = cv2.pyrDown(out_img)\n",
    "cv2.imshow('color', out_img)\n",
    "\n",
    "cv2.waitKey(0)\n",
    "cv2.destroyAllWindows()"
   ]
  },
  {
   "cell_type": "code",
   "execution_count": 4,
   "metadata": {},
   "outputs": [],
   "source": [
    "img = cv2.pyrDown(img)\n",
    "kernel = cv2.getStructuringElement(cv2.MORPH_CROSS, (9,9))\n",
    "img_out = cv2.morphologyEx(img,cv2.MORPH_OPEN,kernel,iterations=1) "
   ]
  },
  {
   "cell_type": "code",
   "execution_count": 5,
   "metadata": {},
   "outputs": [],
   "source": [
    "cv2.imshow('img_out', img_out)\n",
    "cv2.waitKey(0)\n",
    "\n",
    "cv2.destroyAllWindows()"
   ]
  },
  {
   "cell_type": "code",
   "execution_count": 6,
   "metadata": {},
   "outputs": [],
   "source": [
    "kernel = cv2.getStructuringElement(cv2.MORPH_RECT, (9,9))\n",
    "img_out = cv2.morphologyEx(img,cv2.MORPH_OPEN,kernel,iterations=2) "
   ]
  },
  {
   "cell_type": "markdown",
   "metadata": {},
   "source": [
    "# 오픈(Open) = dilate(erode(원본))\n",
    "- cv2.morphologyEx(원본,**cv2.MORPH_OPEN**,kernel,iterations=5)\n",
    "\n",
    "# 클로즈(Close) = erode(dilate(원본))\n",
    "- cv2.morphologyEx(원본,**cv2.MORPH_CLOSE**,kernel,iterations=5)"
   ]
  },
  {
   "cell_type": "code",
   "execution_count": 28,
   "metadata": {},
   "outputs": [],
   "source": [
    "img_pydown = cv2.pyrDown(cv2.pyrDown(img))\n",
    "kernel = cv2.getStructuringElement(cv2.MORPH_RECT, (3, 3))\n",
    "img_open = cv2.morphologyEx(img_pydown,cv2.MORPH_OPEN,kernel,iterations=5)\n",
    "img_out = np.concatenate((img_pydown,img_open),axis=1)"
   ]
  },
  {
   "cell_type": "code",
   "execution_count": 30,
   "metadata": {},
   "outputs": [],
   "source": [
    "img_open = cv2.morphologyEx(img_pydown,cv2.MORPH_CLOSE,kernel,iterations=5)\n",
    "img_out = np.concatenate((img_pydown,img_open),axis=1)"
   ]
  },
  {
   "cell_type": "code",
   "execution_count": 31,
   "metadata": {},
   "outputs": [],
   "source": [
    "cv2.imshow('color', img_out)\n",
    "cv2.waitKey(0)\n",
    "cv2.destroyAllWindows()"
   ]
  },
  {
   "cell_type": "markdown",
   "metadata": {},
   "source": [
    "# Gradient(그레이디언트) =  dialte(원본) - erode(원본)"
   ]
  },
  {
   "cell_type": "code",
   "execution_count": 9,
   "metadata": {},
   "outputs": [],
   "source": [
    "img_color = cv2.imread(\"ul.jpg\")"
   ]
  },
  {
   "cell_type": "code",
   "execution_count": 10,
   "metadata": {},
   "outputs": [],
   "source": [
    "img_pydown = cv2.pyrDown(cv2.pyrDown(img_color))\n",
    "kernel = cv2.getStructuringElement(cv2.MORPH_RECT, (3, 3))\n",
    "img_grad = cv2.morphologyEx(img_pydown,cv2.MORPH_GRADIENT,kernel,iterations=5)\n",
    "img_out = np.concatenate((img_pydown,img_grad),axis=1)"
   ]
  },
  {
   "cell_type": "code",
   "execution_count": 11,
   "metadata": {},
   "outputs": [],
   "source": [
    "cv2.imshow('color', img_out)\n",
    "cv2.waitKey(0)\n",
    "cv2.destroyAllWindows()"
   ]
  },
  {
   "cell_type": "code",
   "execution_count": 12,
   "metadata": {},
   "outputs": [],
   "source": [
    "img_pydown = cv2.pyrDown(cv2.pyrDown(img_color))\n",
    "kernel = cv2.getStructuringElement(cv2.MORPH_RECT, (3, 3))\n",
    "img_open = cv2.morphologyEx(img_pydown,cv2.MORPH_OPEN,kernel,iterations=5)\n",
    "img_out = np.concatenate((img_pydown,img_open),axis=1)"
   ]
  },
  {
   "cell_type": "code",
   "execution_count": null,
   "metadata": {},
   "outputs": [],
   "source": []
  },
  {
   "cell_type": "markdown",
   "metadata": {},
   "source": [
    "# 탑햇(TopHat) = 원본 - open(원본)"
   ]
  },
  {
   "cell_type": "code",
   "execution_count": 13,
   "metadata": {},
   "outputs": [],
   "source": [
    "img_pydown = cv2.pyrDown(cv2.pyrDown(img_color))\n",
    "kernel = cv2.getStructuringElement(cv2.MORPH_RECT, (3, 3))\n",
    "img_grad = cv2.morphologyEx(img_pydown,cv2.MORPH_TOPHAT,kernel,iterations=2)\n",
    "img_out = np.concatenate((img_pydown,img_grad),axis=1)"
   ]
  },
  {
   "cell_type": "code",
   "execution_count": 14,
   "metadata": {},
   "outputs": [],
   "source": [
    "cv2.imshow('color', img_out)\n",
    "cv2.waitKey(0)\n",
    "cv2.destroyAllWindows()"
   ]
  },
  {
   "cell_type": "code",
   "execution_count": null,
   "metadata": {},
   "outputs": [],
   "source": []
  },
  {
   "cell_type": "markdown",
   "metadata": {},
   "source": [
    "# 블랙햇(BlackHat) = close(원본) - 원본"
   ]
  },
  {
   "cell_type": "code",
   "execution_count": 15,
   "metadata": {},
   "outputs": [],
   "source": [
    "img_pydown = cv2.pyrDown(cv2.pyrDown(img_color))\n",
    "kernel = cv2.getStructuringElement(cv2.MORPH_RECT, (3, 3))\n",
    "img_grad = cv2.morphologyEx(img_pydown,cv2.MORPH_BLACKHAT,kernel,iterations=2)\n",
    "img_out = np.concatenate((img_pydown,img_grad),axis=1)"
   ]
  },
  {
   "cell_type": "code",
   "execution_count": 16,
   "metadata": {},
   "outputs": [],
   "source": [
    "cv2.imshow('color', img_out)\n",
    "cv2.waitKey(0)\n",
    "cv2.destroyAllWindows()"
   ]
  },
  {
   "cell_type": "code",
   "execution_count": null,
   "metadata": {},
   "outputs": [],
   "source": []
  },
  {
   "cell_type": "code",
   "execution_count": 17,
   "metadata": {},
   "outputs": [],
   "source": [
    "img = cv2.imread(\"17.jpg\")"
   ]
  },
  {
   "cell_type": "code",
   "execution_count": 18,
   "metadata": {},
   "outputs": [],
   "source": [
    "cv2.imshow('color', img)\n",
    "cv2.waitKey(0)\n",
    "cv2.destroyAllWindows()"
   ]
  },
  {
   "cell_type": "markdown",
   "metadata": {},
   "source": [
    "# 원찾기"
   ]
  },
  {
   "cell_type": "code",
   "execution_count": 69,
   "metadata": {},
   "outputs": [],
   "source": [
    "img_out = img.copy()\n",
    "img_gray = cv2.cvtColor(img, cv2.COLOR_BGR2GRAY)\n",
    "img_pydown = cv2.pyrDown(img_gray)"
   ]
  },
  {
   "cell_type": "code",
   "execution_count": 70,
   "metadata": {},
   "outputs": [],
   "source": [
    "circles = cv2.HoughCircles(img_gray, cv2.HOUGH_GRADIENT, 1 ,100, param1=250, param2 = 10, minRadius= 80, maxRadius = 100) #원을 찾으면 근처 100이내에 원을 찾지마라\n",
    "\n",
    "for i in circles[0]:\n",
    "    cv2.circle(img_out, (i[0], i[1]), i[2], (0,0,255),3)"
   ]
  },
  {
   "cell_type": "code",
   "execution_count": 71,
   "metadata": {},
   "outputs": [],
   "source": [
    "cv2.imshow('color', img_out)\n",
    "cv2.waitKey(0)\n",
    "cv2.destroyAllWindows()"
   ]
  },
  {
   "cell_type": "code",
   "execution_count": 72,
   "metadata": {},
   "outputs": [],
   "source": [
    "img = cv2.imread(\"17.jpg\")"
   ]
  },
  {
   "cell_type": "code",
   "execution_count": 73,
   "metadata": {},
   "outputs": [],
   "source": [
    "img_out = img.copy()\n",
    "img_pydown = cv2.pyrDown(img_out)\n",
    "img_gray = cv2.cvtColor(img, cv2.COLOR_BGR2GRAY)\n",
    "img_pydown = cv2.pyrDown(img_gray)"
   ]
  },
  {
   "cell_type": "code",
   "execution_count": 74,
   "metadata": {},
   "outputs": [],
   "source": [
    "circles = cv2.HoughCircles(img_gray, cv2.HOUGH_GRADIENT, 1 ,70, param1=180, param2 = 15, minRadius= 30, maxRadius = 55) #원을 찾으면 근처 100이내에 원을 찾지마라\n",
    "\n",
    "for i in circles[0]:\n",
    "    cv2.circle(img_out, (i[0], i[1]), i[2], (0,0,255),2)"
   ]
  },
  {
   "cell_type": "code",
   "execution_count": 75,
   "metadata": {},
   "outputs": [],
   "source": [
    "cv2.imshow('color', img_out)\n",
    "cv2.waitKey(0)\n",
    "cv2.destroyAllWindows()"
   ]
  },
  {
   "cell_type": "code",
   "execution_count": null,
   "metadata": {},
   "outputs": [],
   "source": []
  },
  {
   "cell_type": "code",
   "execution_count": 46,
   "metadata": {},
   "outputs": [],
   "source": [
    "import cv2\n",
    "import numpy as np"
   ]
  },
  {
   "cell_type": "code",
   "execution_count": 47,
   "metadata": {},
   "outputs": [],
   "source": [
    "img = cv2.imread(\"17.jpg\")"
   ]
  },
  {
   "cell_type": "code",
   "execution_count": 48,
   "metadata": {},
   "outputs": [],
   "source": [
    "img_out = img.copy()\n",
    "img_gray = cv2.cvtColor(img, cv2.COLOR_BGR2GRAY)\n",
    "ret, img_gray = cv2.threshold(img_gray,180,255,cv2.THRESH_OTSU)"
   ]
  },
  {
   "cell_type": "code",
   "execution_count": 49,
   "metadata": {},
   "outputs": [],
   "source": [
    "\n",
    "kernel = cv2.getStructuringElement(cv2.MORPH_RECT, (3,3))\n",
    "img_gray = cv2.morphologyEx(img_gray,cv2.MORPH_OPEN,kernel,iterations=2)\n"
   ]
  },
  {
   "cell_type": "code",
   "execution_count": 50,
   "metadata": {},
   "outputs": [],
   "source": [
    "circles = cv2.HoughCircles(img_gray, cv2.HOUGH_GRADIENT, 1 ,50, param1=100, param2 = 15, minRadius= 55, maxRadius = 100) #원을 찾으면 근처 100이내에 원을 찾지마라\n",
    "\n",
    "for i in circles[0]:\n",
    "    cv2.circle(img_out, (i[0], i[1]), i[2], (0,255,0),2)\n",
    "    \n",
    "# for i in circles[0]:\n",
    "#     cv2.circle(img_gray, (i[0], i[1]), i[2], (0,0,255),1)"
   ]
  },
  {
   "cell_type": "code",
   "execution_count": 51,
   "metadata": {},
   "outputs": [],
   "source": [
    "cv2.imshow('color', img_out)\n",
    "cv2.imshow('img_gray', img_gray)\n",
    "cv2.waitKey(0)\n",
    "cv2.destroyAllWindows()"
   ]
  },
  {
   "cell_type": "code",
   "execution_count": 52,
   "metadata": {},
   "outputs": [],
   "source": [
    "img = cv2.imread(\"15.jpg\")"
   ]
  },
  {
   "cell_type": "code",
   "execution_count": 53,
   "metadata": {},
   "outputs": [],
   "source": [
    "number1 = np.ones_like(img) * 127\n",
    "number2 = np.ones_like(img) * 2"
   ]
  },
  {
   "cell_type": "code",
   "execution_count": 54,
   "metadata": {},
   "outputs": [],
   "source": [
    "img_add = cv2.add(img , number1)"
   ]
  },
  {
   "cell_type": "code",
   "execution_count": 55,
   "metadata": {},
   "outputs": [],
   "source": [
    "img_sub = cv2.subtract(img,number1)"
   ]
  },
  {
   "cell_type": "code",
   "execution_count": 276,
   "metadata": {},
   "outputs": [],
   "source": [
    "img_mul = cv2.multiply(img, number2) #대비를 더 키움\n",
    "img_out = img_mul "
   ]
  },
  {
   "cell_type": "code",
   "execution_count": 281,
   "metadata": {},
   "outputs": [],
   "source": [
    "img_div = cv2.divide(img, number2) #전체적으로 어두워짐\n",
    "img_out = img_div "
   ]
  },
  {
   "cell_type": "code",
   "execution_count": 5,
   "metadata": {},
   "outputs": [],
   "source": [
    "cv2.imshow('color', img_add)\n",
    "\n",
    "cv2.waitKey(0)\n",
    "cv2.destroyAllWindows()"
   ]
  },
  {
   "cell_type": "code",
   "execution_count": 283,
   "metadata": {},
   "outputs": [],
   "source": [
    "_max = cv2.max(img,number1)\n",
    "img_out = _max"
   ]
  },
  {
   "cell_type": "code",
   "execution_count": 284,
   "metadata": {},
   "outputs": [],
   "source": []
  },
  {
   "cell_type": "code",
   "execution_count": 288,
   "metadata": {},
   "outputs": [],
   "source": [
    "_min = cv2.min(img,number1)\n",
    "img_out = _min"
   ]
  },
  {
   "cell_type": "code",
   "execution_count": 4,
   "metadata": {},
   "outputs": [],
   "source": [
    "_comp = cv2.compare(img,number1,cv2.CMP_GT) #cmp 변경 가능~\n",
    "img_out = _comp\n"
   ]
  },
  {
   "cell_type": "code",
   "execution_count": 4,
   "metadata": {},
   "outputs": [],
   "source": [
    "#abs(절댓값)\n",
    "\n",
    "_abs = cv2.absdiff(img,number1)\n",
    "img_out = _abs\n"
   ]
  },
  {
   "cell_type": "code",
   "execution_count": 5,
   "metadata": {},
   "outputs": [],
   "source": [
    "cv2.imshow('color', img_out)\n",
    "\n",
    "cv2.waitKey(0)\n",
    "cv2.destroyAllWindows()"
   ]
  },
  {
   "cell_type": "code",
   "execution_count": null,
   "metadata": {},
   "outputs": [],
   "source": []
  }
 ],
 "metadata": {
  "kernelspec": {
   "display_name": "Python 3",
   "language": "python",
   "name": "python3"
  },
  "language_info": {
   "codemirror_mode": {
    "name": "ipython",
    "version": 3
   },
   "file_extension": ".py",
   "mimetype": "text/x-python",
   "name": "python",
   "nbconvert_exporter": "python",
   "pygments_lexer": "ipython3",
   "version": "3.7.6"
  }
 },
 "nbformat": 4,
 "nbformat_minor": 4
}
